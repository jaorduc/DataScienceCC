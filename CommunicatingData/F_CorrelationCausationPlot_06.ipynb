{
 "cells": [
  {
   "cell_type": "code",
   "execution_count": 2,
   "id": "2f5e294e",
   "metadata": {},
   "outputs": [],
   "source": [
    "import pandas as pd\n",
    "#import matplotlib.pyplot as plt\n",
    "#import pylab as pl\n",
    "#import numpy as np\n",
    "%matplotlib inline\n"
   ]
  },
  {
   "cell_type": "markdown",
   "id": "bbc84c9d",
   "metadata": {},
   "source": [
    "# Example\n",
    "\n",
    "1. Two variables: **Average hours** of TV watched in a day and a 0-100 **scale of work performance** \n",
    "(0 being very poor performance and 100 being excellent performance)."
   ]
  },
  {
   "cell_type": "code",
   "execution_count": 3,
   "id": "3bea90f5",
   "metadata": {},
   "outputs": [],
   "source": [
    "hours_tv_watched = [0, 0, 0, 1, 1.3, 1.4, 2, 2.1, 2.6, 3.2, 4.1, 4.4, 4.4, 5] # 14\n",
    "work_performance = [87, 89, 92, 90, 82, 80, 77, 80, 76, 85, 80, 75, 73, 72]  # 14"
   ]
  },
  {
   "cell_type": "markdown",
   "id": "f7a88d1c",
   "metadata": {},
   "source": [
    "The first person watched 0 hours of TV a day and was rated $\\frac{87}{100}$ on\n",
    "their work, while the last person watched, on an average, 5 hours of TV a day and\n",
    "was rated $\\frac{72}{100}$:"
   ]
  },
  {
   "cell_type": "code",
   "execution_count": 4,
   "id": "ecbbcc9c",
   "metadata": {},
   "outputs": [],
   "source": [
    "df = pd.DataFrame({'hours_tv_watched':hours_tv_watched, 'work_performance':work_performance})"
   ]
  },
  {
   "cell_type": "markdown",
   "id": "5dfbfcf4",
   "metadata": {},
   "source": [
    "we are creating a Dataframe in order to ease our exploratory data analysis and\n",
    "make it easier to make a scatter plot:"
   ]
  },
  {
   "cell_type": "code",
   "execution_count": 5,
   "id": "79d88fc1",
   "metadata": {},
   "outputs": [
    {
     "data": {
      "image/png": "[encoded data removed]",
      "text/plain": [
       "<Figure size 640x480 with 1 Axes>"
      ]
     },
     "metadata": {},
     "output_type": "display_data"
    }
   ],
   "source": [
    "df.plot(x='hours_tv_watched', y='work_performance', kind='scatter');"
   ]
  },
  {
   "cell_type": "markdown",
   "id": "6f6c6c89",
   "metadata": {},
   "source": [
    "Axes represent the number of hours of TV watched in a day and the person's\n",
    "work performance metric:"
   ]
  },
  {
   "cell_type": "code",
   "execution_count": 6,
   "id": "dbf53ac4",
   "metadata": {},
   "outputs": [
    {
     "data": {
      "text/html": [
       "<div>\n",
       "<style scoped>\n",
       "    .dataframe tbody tr th:only-of-type {\n",
       "        vertical-align: middle;\n",
       "    }\n",
       "\n",
       "    .dataframe tbody tr th {\n",
       "        vertical-align: top;\n",
       "    }\n",
       "\n",
       "    .dataframe thead th {\n",
       "        text-align: right;\n",
       "    }\n",
       "</style>\n",
       "<table border=\"1\" class=\"dataframe\">\n",
       "  <thead>\n",
       "    <tr style=\"text-align: right;\">\n",
       "      <th></th>\n",
       "      <th>hours_tv_watched</th>\n",
       "      <th>work_performance</th>\n",
       "    </tr>\n",
       "  </thead>\n",
       "  <tbody>\n",
       "    <tr>\n",
       "      <th>hours_tv_watched</th>\n",
       "      <td>1.000000</td>\n",
       "      <td>-0.824753</td>\n",
       "    </tr>\n",
       "    <tr>\n",
       "      <th>work_performance</th>\n",
       "      <td>-0.824753</td>\n",
       "      <td>1.000000</td>\n",
       "    </tr>\n",
       "  </tbody>\n",
       "</table>\n",
       "</div>"
      ],
      "text/plain": [
       "                  hours_tv_watched  work_performance\n",
       "hours_tv_watched          1.000000         -0.824753\n",
       "work_performance         -0.824753          1.000000"
      ]
     },
     "execution_count": 6,
     "metadata": {},
     "output_type": "execute_result"
    }
   ],
   "source": [
    "df.corr()"
   ]
  },
  {
   "cell_type": "markdown",
   "id": "d07222a0",
   "metadata": {},
   "source": [
    "# References1\n",
    "[1] Ozdemir, Sinan. Principles of data Science. Packt. 2016. ISBN 978-1-78588-791-8\n"
   ]
  }
 ],
 "metadata": {
  "kernelspec": {
   "display_name": "Python 3.9",
   "language": "python",
   "name": "py39"
  },
  "language_info": {
   "codemirror_mode": {
    "name": "ipython",
    "version": 3
   },
   "file_extension": ".py",
   "mimetype": "text/x-python",
   "name": "python",
   "nbconvert_exporter": "python",
   "pygments_lexer": "ipython3",
   "version": "3.9.1"
  }
 },
 "nbformat": 4,
 "nbformat_minor": 5
}
