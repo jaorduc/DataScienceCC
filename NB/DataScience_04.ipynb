{
 "cells": [
  {
   "cell_type": "markdown",
   "id": "827a933b",
   "metadata": {},
   "source": [
    "# Data Science\n",
    "#### By: Javier Orduz\n",
    "[license-badge]: https://img.shields.io/badge/License-CC-orange\n",
    "[license]: https://creativecommons.org/licenses/by-nc-sa/3.0/deed.en\n",
    "\n",
    "[![CC License][license-badge]][license]  [![DS](https://img.shields.io/badge/downloads-DS-green)](https://github.com/Earlham-College/DS_Fall_2022)  [![Github](https://img.shields.io/badge/jaorduz-repos-blue)](https://github.com/jaorduz/)  ![Follow @jaorduc](https://img.shields.io/twitter/follow/jaorduc?label=follow&logo=twitter&logoColor=lkj&style=plastic)\n"
   ]
  },
  {
   "cell_type": "markdown",
   "id": "da717587",
   "metadata": {},
   "source": [
    "# Importing different modules"
   ]
  },
  {
   "cell_type": "markdown",
   "id": "7f9eca1b",
   "metadata": {},
   "source": [
    "## Imports ```numpy```"
   ]
  },
  {
   "cell_type": "markdown",
   "id": "c5ce1821",
   "metadata": {},
   "source": [
    "### A numerical programming library"
   ]
  },
  {
   "cell_type": "code",
   "execution_count": 1,
   "id": "baa5d0a7",
   "metadata": {},
   "outputs": [],
   "source": [
    "import numpy as np"
   ]
  },
  {
   "cell_type": "markdown",
   "id": "e4842ed3",
   "metadata": {},
   "source": [
    "```Numpy``` check some documentation [1]"
   ]
  },
  {
   "cell_type": "markdown",
   "id": "d0c39639",
   "metadata": {},
   "source": [
    "##  Imports statistics functions and more"
   ]
  },
  {
   "cell_type": "code",
   "execution_count": null,
   "id": "48b35a21",
   "metadata": {},
   "outputs": [],
   "source": [
    "import scipy as sp "
   ]
  },
  {
   "cell_type": "markdown",
   "id": "570e3490",
   "metadata": {},
   "source": [
    "```scipy``` check some documentation [2]"
   ]
  },
  {
   "cell_type": "markdown",
   "id": "44bbf375",
   "metadata": {},
   "source": [
    "## Imports ```matplotlib```"
   ]
  },
  {
   "cell_type": "code",
   "execution_count": null,
   "id": "5d16e961",
   "metadata": {},
   "outputs": [],
   "source": [
    "import matplotlib as mpl"
   ]
  },
  {
   "cell_type": "markdown",
   "id": "f50ed0a0",
   "metadata": {},
   "source": [
    "```matplotlib``` check come documentation [3]"
   ]
  },
  {
   "cell_type": "markdown",
   "id": "4182b1c6",
   "metadata": {},
   "source": [
    "### Module: to access to colormaps"
   ]
  },
  {
   "cell_type": "code",
   "execution_count": 2,
   "id": "f9cb5fd3",
   "metadata": {},
   "outputs": [],
   "source": [
    "import matplotlib.cm as cm"
   ]
  },
  {
   "cell_type": "markdown",
   "id": "bd75e93f",
   "metadata": {},
   "source": [
    "```matplotlib.cm``` check some documentation [4]"
   ]
  },
  {
   "cell_type": "markdown",
   "id": "b164615b",
   "metadata": {},
   "source": [
    "### Module: to set up plotting under plt"
   ]
  },
  {
   "cell_type": "code",
   "execution_count": 3,
   "id": "e8561124",
   "metadata": {},
   "outputs": [],
   "source": [
    "import matplotlib.pyplot as plt"
   ]
  },
  {
   "cell_type": "markdown",
   "id": "44e7e622",
   "metadata": {},
   "source": [
    "```matplotlib.pyplot``` check some documentation [5]"
   ]
  },
  {
   "cell_type": "markdown",
   "id": "9d5373b9",
   "metadata": {},
   "source": [
    "## Imports ```pandas``` to use data as dataframes"
   ]
  },
  {
   "cell_type": "code",
   "execution_count": 4,
   "id": "2c05b2ae",
   "metadata": {},
   "outputs": [],
   "source": [
    "import pandas as pd"
   ]
  },
  {
   "cell_type": "markdown",
   "id": "40f0a9c9",
   "metadata": {},
   "source": [
    "```pandas``` check some documentation [6]"
   ]
  },
  {
   "cell_type": "markdown",
   "id": "d07ccc5d",
   "metadata": {},
   "source": [
    "### Option to manipulate size and more"
   ]
  },
  {
   "cell_type": "code",
   "execution_count": null,
   "id": "eb73a45d",
   "metadata": {},
   "outputs": [],
   "source": [
    "#sets up pandas table display\n",
    "pd.set_option('display.width', 500)\n",
    "pd.set_option('display.max_columns', 100)\n",
    "pd.set_option('display.notebook_repr_html', True)"
   ]
  },
  {
   "cell_type": "markdown",
   "id": "056d8ad8",
   "metadata": {},
   "source": [
    "## Line to embed plots"
   ]
  },
  {
   "cell_type": "code",
   "execution_count": null,
   "id": "a367fc95",
   "metadata": {},
   "outputs": [],
   "source": [
    "%matplotlib in inline"
   ]
  },
  {
   "cell_type": "markdown",
   "id": "0dea5094",
   "metadata": {},
   "source": [
    "## Imports ```seaborn```"
   ]
  },
  {
   "cell_type": "markdown",
   "id": "ad84dba6",
   "metadata": {},
   "source": [
    "### sets up styles and gives us more plotting options"
   ]
  },
  {
   "cell_type": "code",
   "execution_count": null,
   "id": "99b3f40b",
   "metadata": {},
   "outputs": [],
   "source": [
    "import seaborn as sns"
   ]
  },
  {
   "cell_type": "markdown",
   "id": "dade735d",
   "metadata": {},
   "source": [
    "```seaborn``` check some documentation [7]"
   ]
  },
  {
   "cell_type": "markdown",
   "id": "4d612cd5",
   "metadata": {},
   "source": [
    "# Exercises"
   ]
  },
  {
   "cell_type": "markdown",
   "id": "454a5451",
   "metadata": {},
   "source": [
    "1. Consider this list ```alist=[1,2,3,4,5]```, obtain with an interation a new list with the i-element-squared\n",
    "```output -> [1,4,6,16,25]```\n",
    "\n",
    "<!---\n",
    "alist=[1,2,3,4,5]\n",
    "asquaredlist=[i*i for i in alist]\n",
    "asquaredlist\n",
    "--->\n",
    "2. Create a Jupyter Notebook where you implement some functions, methods, and different parameters with each module/package. Check **NB_Examples** folder.\n",
    "3. Submmit your report in Moodle. Template https://www.overleaf.com/read/xqcnnnrsspcp"
   ]
  },
  {
   "cell_type": "markdown",
   "id": "636e47d4",
   "metadata": {},
   "source": [
    "## Versions"
   ]
  },
  {
   "cell_type": "code",
   "execution_count": null,
   "id": "061d20e8",
   "metadata": {},
   "outputs": [],
   "source": [
    "from platform import python_version\n",
    "print(\"python version: \", python_version())\n",
    "!pip3 freeze | grep qiskit"
   ]
  },
  {
   "cell_type": "markdown",
   "id": "7910a46b",
   "metadata": {},
   "source": [
    "# References"
   ]
  },
  {
   "cell_type": "markdown",
   "id": "546c5b0b",
   "metadata": {},
   "source": [
    "[1] numpy https://numpy.org/\n",
    "\n",
    "[2] scipy https://docs.scipy.org/\n",
    "\n",
    "[3] matplotlib https://matplotlib.org/\n",
    "\n",
    "[4] matplotlib.cm https://matplotlib.org/stable/api/cm_api.html\n",
    "\n",
    "[5] matplotlib.pyplot https://matplotlib.org/stable/api/pyplot_summary.html\n",
    "\n",
    "[6] pandas https://pandas.pydata.org/docs/\n",
    "\n",
    "[7] seaborn https://seaborn.pydata.org/"
   ]
  }
 ],
 "metadata": {
  "kernelspec": {
   "display_name": "Python 3.8.9 64-bit",
   "language": "python",
   "name": "python3"
  },
  "language_info": {
   "codemirror_mode": {
    "name": "ipython",
    "version": 3
   },
   "file_extension": ".py",
   "mimetype": "text/x-python",
   "name": "python",
   "nbconvert_exporter": "python",
   "pygments_lexer": "ipython3",
   "version": "3.8.9"
  },
  "vscode": {
   "interpreter": {
    "hash": "31f2aee4e71d21fbe5cf8b01ff0e069b9275f58929596ceb00d14d90e3e16cd6"
   }
  }
 },
 "nbformat": 4,
 "nbformat_minor": 5
}
