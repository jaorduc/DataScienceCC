{
 "cells": [
  {
   "cell_type": "markdown",
   "id": "ceb2874e",
   "metadata": {},
   "source": [
    "# Data Science\n",
    "#### By: Javier Orduz\n",
    "[license-badge]: https://img.shields.io/badge/License-CC-orange\n",
    "[license]: https://creativecommons.org/licenses/by-nc-sa/3.0/deed.en\n",
    "\n",
    "[![CC License][license-badge]][license]\n",
    "\n",
    "[![DS](https://img.shields.io/badge/downloads-DS-green)](https://github.com/Earlham-College/DS_Fall_2022)\n",
    "\n",
    "[![Github](https://img.shields.io/badge/jaorduz-repos-blue)](https://github.com/jaorduz/)\n",
    "\n",
    "![Follow @jaorduc](https://img.shields.io/twitter/follow/jaorduc?label=follow&logo=twitter&logoColor=lkj&style=plastic)\n",
    "\n",
    "\n",
    "\n",
    "## Contents\n",
    "1. [List and Tuples](#list_tuples)\n",
    "1. [Exercises](#exercises)\n",
    "1. [References](#references)"
   ]
  },
  {
   "cell_type": "markdown",
   "id": "5fd9b8b0",
   "metadata": {},
   "source": [
    "We call the package"
   ]
  },
  {
   "cell_type": "code",
   "execution_count": 14,
   "id": "90b7c328",
   "metadata": {},
   "outputs": [],
   "source": [
    "import numpy as np"
   ]
  },
  {
   "cell_type": "markdown",
   "id": "f7f30c63",
   "metadata": {},
   "source": [
    "We create an set of random mumbers."
   ]
  },
  {
   "cell_type": "code",
   "execution_count": 24,
   "id": "b93db34a",
   "metadata": {},
   "outputs": [],
   "source": [
    "data = {i : np.random.randn(2,4) for i in range(3)}"
   ]
  },
  {
   "cell_type": "markdown",
   "id": "9b642b71",
   "metadata": {},
   "source": [
    "We print the data with the label from $i= 0$ to $i= 6$"
   ]
  },
  {
   "cell_type": "code",
   "execution_count": 25,
   "id": "034c683a",
   "metadata": {},
   "outputs": [
    {
     "name": "stdout",
     "output_type": "stream",
     "text": [
      "{0: array([[ 0.69141927, -2.22524742,  0.02661367, -0.40320715],\n",
      "       [ 1.72748332, -0.18216456,  0.74141057,  2.69547227]]), 1: array([[ 1.19778825,  0.70468184,  2.22550385, -0.34211532],\n",
      "       [-1.01558698, -1.17722943, -0.27676636,  0.13905258]]), 2: array([[ 0.16608071, -0.78222923,  0.50949039,  0.30367735],\n",
      "       [ 1.34749569, -0.07106812, -0.73436172, -0.48347782]])}\n"
     ]
    }
   ],
   "source": [
    "print(data)"
   ]
  },
  {
   "cell_type": "code",
   "execution_count": 29,
   "id": "cda5913d",
   "metadata": {},
   "outputs": [
    {
     "data": {
      "text/plain": [
       "array([[ 0.69141927, -2.22524742,  0.02661367, -0.40320715],\n",
       "       [ 1.72748332, -0.18216456,  0.74141057,  2.69547227]])"
      ]
     },
     "execution_count": 29,
     "metadata": {},
     "output_type": "execute_result"
    }
   ],
   "source": [
    "data[0]"
   ]
  },
  {
   "cell_type": "code",
   "execution_count": 33,
   "id": "bdfdb4b6",
   "metadata": {},
   "outputs": [
    {
     "data": {
      "text/plain": [
       "array([ 0.69141927, -2.22524742,  0.02661367, -0.40320715])"
      ]
     },
     "execution_count": 33,
     "metadata": {},
     "output_type": "execute_result"
    }
   ],
   "source": [
    "data[0][0]"
   ]
  },
  {
   "cell_type": "code",
   "execution_count": 34,
   "id": "5ac4f0c7",
   "metadata": {},
   "outputs": [
    {
     "data": {
      "text/plain": [
       "0.691419268224087"
      ]
     },
     "execution_count": 34,
     "metadata": {},
     "output_type": "execute_result"
    }
   ],
   "source": [
    "data[0][0][0]"
   ]
  },
  {
   "cell_type": "markdown",
   "id": "04224537",
   "metadata": {},
   "source": [
    "# Exercise"
   ]
  },
  {
   "cell_type": "markdown",
   "id": "69522dfb",
   "metadata": {},
   "source": [
    "1. Add documentation for the previous code, each line.\n",
    "1. Calculate the average for the different columns"
   ]
  }
 ],
 "metadata": {
  "kernelspec": {
   "display_name": "Python 3.9",
   "language": "python",
   "name": "py39"
  },
  "language_info": {
   "codemirror_mode": {
    "name": "ipython",
    "version": 3
   },
   "file_extension": ".py",
   "mimetype": "text/x-python",
   "name": "python",
   "nbconvert_exporter": "python",
   "pygments_lexer": "ipython3",
   "version": "3.9.1"
  }
 },
 "nbformat": 4,
 "nbformat_minor": 5
}
