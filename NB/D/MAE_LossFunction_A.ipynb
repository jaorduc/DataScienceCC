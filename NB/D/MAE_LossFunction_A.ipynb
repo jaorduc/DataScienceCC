{
 "cells": [
  {
   "cell_type": "markdown",
   "id": "80f87e92",
   "metadata": {},
   "source": [
    "# Data Science: MAE an MSE \n",
    "#### By: Javier Orduz\n",
    "<!--\n",
    "<img\n",
    "src=\"https://jaorduz.github.io/images/Javier%20Orduz_01.jpg\" width=\"50\" align=\"center\">\n",
    "-->\n",
    "\n",
    "[license-badge]: https://img.shields.io/badge/License-CC-orange\n",
    "[license]: https://creativecommons.org/licenses/by-nc-sa/3.0/deed.en\n",
    "\n",
    "[![CC License][license-badge]][license]  [![DS](https://img.shields.io/badge/downloads-DS-green)](https://github.com/Earlham-College/DS_Fall_2022)  [![Github](https://img.shields.io/badge/jaorduz-repos-blue)](https://github.com/jaorduz/)  ![Follow @jaorduc](https://img.shields.io/twitter/follow/jaorduc?label=follow&logo=twitter&logoColor=lkj&style=plastic)\n",
    "\n",
    "\n",
    "import sys\n",
    "import os\n",
    "import numpy as np\n",
    "import matplotlib.pyplot as plt\n",
    "import pandas as pd\n",
    "%matplotlib inline\n",
    "import seaborn as sns"
   ]
  },
  {
   "cell_type": "code",
   "execution_count": 7,
   "id": "7e11aecd",
   "metadata": {},
   "outputs": [],
   "source": [
    "import sys\n",
    "import os\n",
    "import numpy as np\n",
    "import matplotlib.pyplot as plt\n",
    "%matplotlib inline\n",
    "import seaborn as sns\n",
    "\n"
   ]
  },
  {
   "cell_type": "code",
   "execution_count": 8,
   "id": "c528ed07",
   "metadata": {},
   "outputs": [],
   "source": [
    "def mae_loss(theta, y_vals):\n",
    "    return np.mean(np.abs(y_vals - theta))"
   ]
  },
  {
   "cell_type": "code",
   "execution_count": 20,
   "id": "84a3d08f",
   "metadata": {},
   "outputs": [],
   "source": [
    "def try_thetas(thetas, y_vals, xlims, loss_fn=mae_loss, figsize=(5, 4),\n",
    "               rug_height=0.1, cols=3):\n",
    "    if not isinstance(y_vals, np.ndarray):\n",
    "        y_vals = np.array(y_vals)\n",
    "    rows = int(np.ceil(len(thetas) / cols))\n",
    "    plt.figure(figsize=figsize)\n",
    "    for i, theta in enumerate(thetas):\n",
    "        ax = plt.subplot(rows, cols, i + 1)\n",
    "        sns.rugplot(y_vals, height=rug_height, ax=ax)\n",
    "        plt.axvline(theta, linestyle='--',\n",
    "                    label=rf'$ \\theta = {theta} $')\n",
    "        plt.title(f'Loss = {loss_fn(theta, y_vals):.2f}')\n",
    "        plt.xlim(*xlims)\n",
    "        plt.yticks([])\n",
    "        plt.legend()\n",
    "    plt.tight_layout()"
   ]
  },
  {
   "cell_type": "code",
   "execution_count": 21,
   "id": "4e92ad15",
   "metadata": {},
   "outputs": [
    {
     "data": {
      "image/png": "[encoded data removed]",
      "text/plain": [
       "<Figure size 500x400 with 6 Axes>"
      ]
     },
     "metadata": {},
     "output_type": "display_data"
    }
   ],
   "source": [
    "try_thetas(thetas=[-2, 0, 1, 2, 3, 4],\n",
    "           y_vals=[-1, 0, 2, 5, 10],\n",
    "           rug_height=0.3,\n",
    "           xlims=(-3, 12))"
   ]
  },
  {
   "cell_type": "markdown",
   "id": "f68aca1f",
   "metadata": {},
   "source": [
    "# Exercises\n",
    "\n",
    "1. Obtain the Loss function by hand, and compare with Loss function on plots.\n",
    "1. Submmit your report in Moodle. Template https://www.overleaf.com/read/xqcnnnrsspcp"
   ]
  },
  {
   "cell_type": "markdown",
   "id": "7c1cec92",
   "metadata": {},
   "source": [
    "# References\n",
    "\n",
    "[0] data https://tinyurl.com/2m3vr2xp\n",
    "\n",
    "[1] numpy https://numpy.org/\n",
    "\n",
    "[2] scipy https://docs.scipy.org/\n",
    "\n",
    "[3] matplotlib https://matplotlib.org/\n",
    "\n",
    "[4] matplotlib.cm https://matplotlib.org/stable/api/cm_api.html\n",
    "\n",
    "[5] matplotlib.pyplot https://matplotlib.org/stable/api/pyplot_summary.html\n",
    "\n",
    "[6] pandas https://pandas.pydata.org/docs/\n",
    "\n",
    "[7] seaborn https://seaborn.pydata.org/\n",
    "\n",
    "[8] Data Science: https://www.textbook.ds100.org/intro.html"
   ]
  },
  {
   "cell_type": "code",
   "execution_count": null,
   "id": "4a25c7b2",
   "metadata": {},
   "outputs": [],
   "source": []
  }
 ],
 "metadata": {
  "kernelspec": {
   "display_name": "Python 3.8.9 64-bit",
   "language": "python",
   "name": "python3"
  },
  "language_info": {
   "codemirror_mode": {
    "name": "ipython",
    "version": 3
   },
   "file_extension": ".py",
   "mimetype": "text/x-python",
   "name": "python",
   "nbconvert_exporter": "python",
   "pygments_lexer": "ipython3",
   "version": "3.8.9"
  },
  "vscode": {
   "interpreter": {
    "hash": "31f2aee4e71d21fbe5cf8b01ff0e069b9275f58929596ceb00d14d90e3e16cd6"
   }
  }
 },
 "nbformat": 4,
 "nbformat_minor": 5
}
