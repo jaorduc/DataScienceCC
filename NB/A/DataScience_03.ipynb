{
 "cells": [
  {
   "cell_type": "markdown",
   "id": "b7563e84",
   "metadata": {},
   "source": [
    "# Data Science\n",
    "#### By: Javier Orduz\n",
    "[license-badge]: https://img.shields.io/badge/License-CC-orange\n",
    "[license]: https://creativecommons.org/licenses/by-nc-sa/3.0/deed.en\n",
    "\n",
    "[![CC License][license-badge]][license]  [![DS](https://img.shields.io/badge/downloads-DS-green)](https://github.com/Earlham-College/DS_Fall_2022)  [![Github](https://img.shields.io/badge/jaorduz-repos-blue)](https://github.com/jaorduz/)  ![Follow @jaorduc](https://img.shields.io/twitter/follow/jaorduc?label=follow&logo=twitter&logoColor=lkj&style=plastic)\n",
    "\n",
    "## Contents\n",
    "1. [List and Tuples](#list_tuples)\n",
    "1. [Exercises](#exercises)\n",
    "1. [References](#references)"
   ]
  },
  {
   "cell_type": "markdown",
   "id": "8a77bfd8",
   "metadata": {},
   "source": [
    "# Lists and Tuples <a name=\"list_tuples\"></a>"
   ]
  },
  {
   "cell_type": "markdown",
   "id": "fa9485cd",
   "metadata": {},
   "source": [
    "In short, a list is a collection of arbitrary objects, somewhat akin to an array in many other programming languages but more flexible. **Lists are defined in Python by enclosing a comma-separated sequence of objects in square brackets** [1], as shown below:"
   ]
  },
  {
   "cell_type": "markdown",
   "id": "a06efba5",
   "metadata": {},
   "source": [
    "## Same type"
   ]
  },
  {
   "cell_type": "code",
   "execution_count": null,
   "id": "1a5b5281",
   "metadata": {},
   "outputs": [],
   "source": [
    "a = ['foo', 'bar', 'baz', 'qux']"
   ]
  },
  {
   "cell_type": "code",
   "execution_count": null,
   "id": "4a523270",
   "metadata": {},
   "outputs": [],
   "source": [
    "a"
   ]
  },
  {
   "cell_type": "code",
   "execution_count": null,
   "id": "0aa2b846",
   "metadata": {},
   "outputs": [],
   "source": [
    "b = [1, 2, 3, 4]"
   ]
  },
  {
   "cell_type": "code",
   "execution_count": null,
   "id": "473667af",
   "metadata": {},
   "outputs": [],
   "source": [
    "b"
   ]
  },
  {
   "cell_type": "markdown",
   "id": "3f36300e",
   "metadata": {},
   "source": [
    "## Different type"
   ]
  },
  {
   "cell_type": "code",
   "execution_count": null,
   "id": "66d2df86",
   "metadata": {},
   "outputs": [],
   "source": [
    "c = [21.42, 'foobar', 3, 4, 'bark', False, 3.14159]"
   ]
  },
  {
   "cell_type": "code",
   "execution_count": null,
   "id": "b6a4d972",
   "metadata": {},
   "outputs": [],
   "source": [
    "c"
   ]
  },
  {
   "cell_type": "markdown",
   "id": "ed9b6961",
   "metadata": {},
   "source": [
    "Even lists can contain functions, classes, and modules.\n",
    "Each list assignes index for all elements starting from 0 (from left or -1 starting from right)."
   ]
  },
  {
   "cell_type": "code",
   "execution_count": null,
   "id": "ccde44f5",
   "metadata": {},
   "outputs": [],
   "source": [
    "c[0]"
   ]
  },
  {
   "cell_type": "code",
   "execution_count": null,
   "id": "6d2fd3e1",
   "metadata": {},
   "outputs": [],
   "source": [
    "a[-1]"
   ]
  },
  {
   "cell_type": "markdown",
   "id": "d9af4fec",
   "metadata": {},
   "source": [
    "# Part of the list"
   ]
  },
  {
   "cell_type": "code",
   "execution_count": null,
   "id": "3dee3172",
   "metadata": {},
   "outputs": [],
   "source": [
    "b[1:3]"
   ]
  },
  {
   "cell_type": "markdown",
   "id": "d635700d",
   "metadata": {},
   "source": [
    "## Operating with lists"
   ]
  },
  {
   "cell_type": "code",
   "execution_count": null,
   "id": "04031d9a",
   "metadata": {},
   "outputs": [],
   "source": [
    "a + b"
   ]
  },
  {
   "cell_type": "markdown",
   "id": "cbe604e9",
   "metadata": {},
   "source": [
    "# Mutable\n",
    "\n",
    "It can be changed once they have been assigned."
   ]
  },
  {
   "cell_type": "markdown",
   "id": "5da355f9",
   "metadata": {},
   "source": [
    "##  Tuples"
   ]
  },
  {
   "cell_type": "markdown",
   "id": "f0db8693",
   "metadata": {},
   "source": [
    "1. Tuples are **immutables**"
   ]
  },
  {
   "cell_type": "code",
   "execution_count": null,
   "id": "8f2ac228",
   "metadata": {},
   "outputs": [],
   "source": [
    "e = (1, 2, 3)"
   ]
  },
  {
   "cell_type": "code",
   "execution_count": null,
   "id": "e637c0d9",
   "metadata": {},
   "outputs": [],
   "source": [
    "e"
   ]
  },
  {
   "cell_type": "code",
   "execution_count": null,
   "id": "32e8cc6c",
   "metadata": {},
   "outputs": [],
   "source": [
    "e[0]"
   ]
  },
  {
   "cell_type": "markdown",
   "id": "fc5defc4",
   "metadata": {},
   "source": [
    "Reversal mechanism"
   ]
  },
  {
   "cell_type": "code",
   "execution_count": null,
   "id": "90f4f2ee",
   "metadata": {},
   "outputs": [],
   "source": [
    "e[::-1]"
   ]
  },
  {
   "cell_type": "markdown",
   "id": "0fd6e028",
   "metadata": {},
   "source": [
    "- Program execution is faster when manipulating **tuples**\n",
    "- Sometimes we want immutable data\n",
    "- Dictionarie concept uses the immutable propierty."
   ]
  },
  {
   "cell_type": "markdown",
   "id": "a605f898",
   "metadata": {},
   "source": [
    "# Packing and unpacking "
   ]
  },
  {
   "cell_type": "code",
   "execution_count": null,
   "id": "305d6573",
   "metadata": {},
   "outputs": [],
   "source": [
    "(v1, v2, v3) = (2, 20, 200)"
   ]
  },
  {
   "cell_type": "code",
   "execution_count": null,
   "id": "989b3c5d",
   "metadata": {},
   "outputs": [],
   "source": [
    "v3"
   ]
  },
  {
   "cell_type": "markdown",
   "id": "ce213447",
   "metadata": {},
   "source": [
    "You can test it without parenthesis."
   ]
  },
  {
   "cell_type": "markdown",
   "id": "a244f1d3",
   "metadata": {},
   "source": [
    "# Modifying "
   ]
  },
  {
   "cell_type": "code",
   "execution_count": null,
   "id": "0bd47b26",
   "metadata": {},
   "outputs": [],
   "source": [
    "d = [1,2,3,4,5,6,7,8]"
   ]
  },
  {
   "cell_type": "code",
   "execution_count": null,
   "id": "51c79202",
   "metadata": {},
   "outputs": [],
   "source": [
    "d[1:6]=[9]"
   ]
  },
  {
   "cell_type": "code",
   "execution_count": null,
   "id": "1821e76f",
   "metadata": {},
   "outputs": [],
   "source": [
    "d"
   ]
  },
  {
   "cell_type": "markdown",
   "id": "c23f0846",
   "metadata": {},
   "source": [
    "We replace a specific slice of the list with a new value```d[1:6]=[9]```"
   ]
  },
  {
   "cell_type": "markdown",
   "id": "2aad8cf5",
   "metadata": {},
   "source": [
    "# Dictionaries"
   ]
  },
  {
   "cell_type": "markdown",
   "id": "d0332644",
   "metadata": {},
   "source": [
    "A dictionary is a collection which is \n",
    "    - **ordered**, \n",
    "    - **changeable** and \n",
    "    - **does not allow duplicates**.\n",
    "\n",
    "Dictionaries are used to store data values in ```key:value```pairs.\n",
    "\n"
   ]
  },
  {
   "cell_type": "code",
   "execution_count": 3,
   "id": "7886a0ce",
   "metadata": {},
   "outputs": [
    {
     "name": "stdout",
     "output_type": "stream",
     "text": [
      "{'brand': 'Ford', 'model': 'Mustang', 'year': 1964}\n"
     ]
    }
   ],
   "source": [
    "thisdict =\t{\n",
    "  \"brand\": \"Ford\",\n",
    "  \"model\": \"Mustang\",\n",
    "  \"year\": 1964\n",
    "}\n",
    "print(thisdict)"
   ]
  },
  {
   "cell_type": "code",
   "execution_count": 4,
   "id": "12a6dac2",
   "metadata": {},
   "outputs": [
    {
     "name": "stdout",
     "output_type": "stream",
     "text": [
      "Ford\n"
     ]
    }
   ],
   "source": [
    " print(thisdict[\"brand\"])"
   ]
  },
  {
   "cell_type": "markdown",
   "id": "5b442de1",
   "metadata": {},
   "source": [
    "# Set"
   ]
  },
  {
   "cell_type": "markdown",
   "id": "462afeef",
   "metadata": {},
   "source": [
    "Sets are used to store multiple items in a single variable.\n",
    "A set is a collection which is **unordered, unchangeable**, and **unindexed**."
   ]
  },
  {
   "cell_type": "code",
   "execution_count": 5,
   "id": "84577b7b",
   "metadata": {},
   "outputs": [],
   "source": [
    " myset = {\"apple\", \"banana\", \"cherry\"} "
   ]
  },
  {
   "cell_type": "markdown",
   "id": "bbeef934",
   "metadata": {},
   "source": [
    "The items in the set \n",
    "    - do not have a defined order.\n",
    "    - Set items cannot be changed after the set has been created.\n",
    "    - and cannot be referred to by index or key"
   ]
  },
  {
   "cell_type": "markdown",
   "id": "1a1af9b4",
   "metadata": {},
   "source": [
    "# Exercises <a name=\"exercises\"></a>"
   ]
  },
  {
   "cell_type": "markdown",
   "id": "6391807f",
   "metadata": {},
   "source": [
    "1. Create the list for the next diagram\n",
    "\n",
    "[<img src=\"https://files.realpython.com/media/t.08554d94a1e5.png\">](https://files.realpython.com/media/t.08554d94a1e5.png)\n",
    "\n",
    "<!---\n",
    "\n",
    "['a', ['bb', ['ccc', 'ddd'], 'ee', 'ff'], 'g', ['hh', 'ii'], 'j']\n",
    "--->"
   ]
  },
  {
   "cell_type": "markdown",
   "id": "1b03dd03",
   "metadata": {},
   "source": [
    "2. Implement some examples with methods such as\n",
    "    - ```append```\n",
    "    - ```upper```\n",
    "    - ```extend```\n",
    "    - ```insert```\n",
    "    - ```remove```\n",
    "    - ```pop```"
   ]
  },
  {
   "cell_type": "markdown",
   "id": "50726a68",
   "metadata": {},
   "source": [
    "3. Apply basic operations with tuples\n",
    "4. Create a Jupyter Notebook and solve this NB's questions.\n",
    "5. Submmit your report in Moodle. Template https://www.overleaf.com/read/xqcnnnrsspcp"
   ]
  },
  {
   "cell_type": "markdown",
   "id": "3098842d",
   "metadata": {},
   "source": [
    "## Versions"
   ]
  },
  {
   "cell_type": "code",
   "execution_count": 2,
   "id": "45df94c9",
   "metadata": {},
   "outputs": [
    {
     "name": "stdout",
     "output_type": "stream",
     "text": [
      "python version:  3.9.1\n",
      "\u001b[33mYou are using pip version 9.0.1, however version 22.2.2 is available.\n",
      "You should consider upgrading via the 'pip install --upgrade pip' command.\u001b[0m\n"
     ]
    }
   ],
   "source": [
    "from platform import python_version\n",
    "print(\"python version: \", python_version())\n",
    "!pip3 freeze | grep qiskit"
   ]
  },
  {
   "cell_type": "markdown",
   "id": "c29d6d3f",
   "metadata": {},
   "source": [
    "# References <a name=\"references\"></a>"
   ]
  },
  {
   "cell_type": "markdown",
   "id": "dba52f35",
   "metadata": {},
   "source": [
    "[1] https://realpython.com/python-lists-tuples/"
   ]
  }
 ],
 "metadata": {
  "kernelspec": {
   "display_name": "Python 3.8.9 64-bit",
   "language": "python",
   "name": "python3"
  },
  "language_info": {
   "codemirror_mode": {
    "name": "ipython",
    "version": 3
   },
   "file_extension": ".py",
   "mimetype": "text/x-python",
   "name": "python",
   "nbconvert_exporter": "python",
   "pygments_lexer": "ipython3",
   "version": "3.8.9"
  },
  "vscode": {
   "interpreter": {
    "hash": "31f2aee4e71d21fbe5cf8b01ff0e069b9275f58929596ceb00d14d90e3e16cd6"
   }
  }
 },
 "nbformat": 4,
 "nbformat_minor": 5
}
